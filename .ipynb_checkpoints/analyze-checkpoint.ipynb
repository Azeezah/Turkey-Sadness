{
 "cells": [
  {
   "cell_type": "code",
   "execution_count": 10,
   "metadata": {},
   "outputs": [
    {
     "name": "stdout",
     "output_type": "stream",
     "text": [
      "/Users/savannahmccoy/Documents/Data Science - Final Project/./plots/\n"
     ]
    }
   ],
   "source": [
    "\"\"\" -------------------------------------------------------------------------------------------------------\n",
    "    ~~~~~~~~~~~~~~~~~~~~~~~~~~~~~~~~~~ APPLIED DATA SCIENCE: FINAL PROJECT! ~~~~~~~~~~~~~~~~~~~~~~~~~~~~~~~\n",
    "    -------------------------------------------------------------------------------------------------------\n",
    "        \n",
    "                        # =================== Final Project: Parts 2 & 3 ====================\n",
    "                        # ============ Author: Savannah McCoy, Azeezah Muhammad =============\n",
    "                        # ================ Howard University -- Fall 2018 ===================\n",
    "                        # ================ CSCI 473: Applied Data Science ===================\n",
    "\n",
    "\"\"\"\n",
    "\n",
    "import os, sys, json, math\n",
    "import matplotlib.pyplot as plt\n",
    "import pandas as pd\n",
    "import numpy as np\n",
    "import datetime as dt\n",
    "from scipy import stats\n",
    "    \n",
    "    \n",
    "def part_2a(df):\n",
    "    \n",
    "    df['date'] = df['reference_period_desc'] + df['year']\t\t# add 'year' to 'reference period'(month) for full date\n",
    "    df['date'] = pd.to_datetime(df['date'])\t\t\t\t\t\t# convert 'date' string to date format\n",
    "    df['Value'] = df['Value'].apply(to_float)\t\t\t\t\t# convert 'Value' column to float\n",
    "\n",
    "    fig = plt.figure(); df.plot(x='date', y='Value', style='-', figsize=(15,8))\n",
    "    plt.xlim(pd.Timestamp('1989-01-01'), pd.Timestamp('2002-12-31'))\n",
    "    \n",
    "    # Save plot to '/plots' directory\n",
    "    path_to_dir = os.path.join(os.getcwd(), '.', 'plots/') #plt.show(); \n",
    "    if not os.path.exists(path_to_dir):\n",
    "        os.makedirs(path_to_dir)\n",
    "    print(path_to_dir )\n",
    "    fig.savefig(path_to_dir + '1989-2002_Values.png'); plt.close(fig)\n",
    "    \n",
    "    return df\n",
    "\n",
    "    \n",
    "def part_3a(df):\n",
    "    \n",
    "    df_2017 = df[(df['date'] > '2017-1-1') & (df['date'] <= '2017-12-31')]\t\t# filter values\n",
    "    x = np.arange(0, len(df_2017.index))\n",
    "    y = df_2017['Value']\n",
    "    \n",
    "    slope, intercept, r_value, p_value, std_err = stats.linregress(x, y)\t\t# calculate linear reg\n",
    "    line = slope*x + intercept\t\t\t\t\t\t\t\t\t\t\t\t\t# linear reg line  \n",
    "    return x, y, line\n",
    "\n",
    "\n",
    "def part_3b(df):\n",
    "    return df\n",
    "\n",
    "def part_3c(df):\n",
    "    return df\n",
    "\n",
    "def part_3d(df):\n",
    "    return df\n",
    "\n",
    "def part_3e(x, y, line):\n",
    "    fig = plt.figure(figsize=(15,8))\n",
    "    plt.plot(x, y,'-', x, line)\n",
    "    #plt.show();\n",
    "    path_to_dir = os.path.join(os.getcwd(), '.', 'plots/')\n",
    "    fig.savefig(path_to_dir + 'Line_Reg.png'); plt.close(fig)\t\n",
    "    return df\n",
    "\n",
    "\n",
    "def to_float(x):\n",
    "    num = x.replace(\",\", \"\")\n",
    "    return float(num)\n",
    "\n",
    "\n",
    "def to_dataframe(file_name):\n",
    "    json_df = pd.read_json(os.getcwd() + \"/\" + file_name)\t# read json file to dataframe\n",
    "    return json_df['data'].apply(pd.Series)\t\t\t\t\t# turn 'data' column into its own dataframe\n",
    "\n",
    "\n",
    "if __name__ == \"__main__\":\n",
    "    file = 'data.json'\n",
    "    df = to_dataframe(file)\n",
    "    df \t\t\t= part_2a(df)\n",
    "    x, y, line\t= part_3a(df)\n",
    "#     df = part_3b(df)\n",
    "#     df = part_3c(df)\n",
    "#     df = part_3d(df)\n",
    "    part_3e(x, y, line)\n",
    "    "
   ]
  },
  {
   "cell_type": "code",
   "execution_count": null,
   "metadata": {
    "collapsed": true
   },
   "outputs": [],
   "source": []
  }
 ],
 "metadata": {
  "kernelspec": {
   "display_name": "Python 3",
   "language": "python",
   "name": "python3"
  },
  "language_info": {
   "codemirror_mode": {
    "name": "ipython",
    "version": 3
   },
   "file_extension": ".py",
   "mimetype": "text/x-python",
   "name": "python",
   "nbconvert_exporter": "python",
   "pygments_lexer": "ipython3",
   "version": "3.6.2"
  }
 },
 "nbformat": 4,
 "nbformat_minor": 2
}
